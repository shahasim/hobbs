{
  "nbformat": 4,
  "nbformat_minor": 0,
  "metadata": {
    "colab": {
      "name": "MLE coding - Ben Hicks.ipynb",
      "provenance": [],
      "collapsed_sections": [],
      "include_colab_link": true
    },
    "kernelspec": {
      "name": "python3",
      "display_name": "Python 3"
    }
  },
  "cells": [
    {
      "cell_type": "markdown",
      "metadata": {
        "id": "view-in-github",
        "colab_type": "text"
      },
      "source": [
        "<a href=\"https://colab.research.google.com/github/shahasim/hobbs/blob/master/MLE_coding_Ben_Hicks.ipynb\" target=\"_parent\"><img src=\"https://colab.research.google.com/assets/colab-badge.svg\" alt=\"Open In Colab\"/></a>"
      ]
    },
    {
      "cell_type": "markdown",
      "metadata": {
        "id": "pAynvpmlvdZt"
      },
      "source": [
        "### Introduction to SQL Sub-Queries\n",
        "\n",
        "This notebook explore the basics of the use of sub-queries with SQL"
      ]
    },
    {
      "cell_type": "code",
      "metadata": {
        "id": "_xkGEn95uh6W",
        "colab": {
          "base_uri": "https://localhost:8080/"
        },
        "outputId": "3847a1a8-a23e-48a8-e122-4d78cf0ff773"
      },
      "source": [
        "# CREATING THE TABLE\n",
        "import sqlite3\n",
        "\n",
        "conn = sqlite3.connect('test.db')\n",
        "print(\"Opened database successfully\");\n",
        "\n",
        "conn.execute('''\n",
        "DROP TABLE IF EXISTS team_data;''')\n",
        "\n",
        "\n",
        "conn.execute('''\n",
        "CREATE TABLE IF NOT EXISTS team_data(team text, \n",
        "                      country text, \n",
        "                      season integer, \n",
        "                      total_goals integer);''')\n",
        "\n",
        "conn.execute('''\n",
        "CREATE TABLE IF NOT EXISTS Trophie_data(team text, \n",
        "                      country text, \n",
        "                      season integer, \n",
        "                      trophy_type text);''')\n",
        "\n",
        "conn.commit()\n",
        "\n",
        "print(\"Table created successfully\");\n",
        "\n",
        "# conn.close()"
      ],
      "execution_count": null,
      "outputs": [
        {
          "output_type": "stream",
          "name": "stdout",
          "text": [
            "Opened database successfully\n",
            "Table created successfully\n"
          ]
        }
      ]
    },
    {
      "cell_type": "code",
      "metadata": {
        "id": "r9SeHPpgu73Z"
      },
      "source": [
        "# INSERTING VALUES\n",
        "\n",
        "conn.execute(\"INSERT INTO team_data VALUES('Real Madrid', 'Spain', 2019, 63);\")\n",
        "conn.execute(\"INSERT INTO team_data VALUES('Barcelona', 'Spain', 2019, 47);\")\n",
        "conn.execute(\"INSERT INTO team_data VALUES('Arsenal', 'UK', 2019, 52);\")\n",
        "conn.execute(\"INSERT INTO team_data VALUES('Real Madrid', 'Spain', 2018, 49);\")\n",
        "conn.execute(\"INSERT INTO team_data VALUES('Barcelona', 'Spain', 2018, 45);\")\n",
        "conn.execute(\"INSERT INTO team_data VALUES('Arsenal', 'UK', 2018, 50 );\")\n",
        "conn.execute(\"INSERT INTO team_data VALUES('Real Madrid', 'Spain', 2022, 65);\")\n",
        "conn.execute(\"INSERT INTO team_data VALUES('Bayern', 'Germany', 2020, 55);\")\n",
        "conn.execute(\"INSERT INTO team_data VALUES('Bayern', 'Germany', 2021, 70 );\")\n",
        "conn.execute(\"INSERT INTO team_data VALUES('Bayern', 'Germany', 2022, 55);\")\n",
        "\n",
        "conn.execute(\"INSERT INTO trophie_data VALUES('Bayern', 'Germany', 2022, 'bundesliga');\")\n",
        "conn.execute(\"INSERT INTO trophie_data VALUES('Bayern', 'Germany', 2021, 'bundesliga');\")\n",
        "conn.execute(\"INSERT INTO trophie_data VALUES('Bayern', 'Germany', 2018, 'Champions League');\")\n",
        "conn.execute(\"INSERT INTO trophie_data VALUES('Real Madrid', 'Spain', 2022, 'Champions League');\")\n",
        "conn.execute(\"INSERT INTO trophie_data VALUES('Real Madrid', 'Spain', 2022, 'Laliga');\")\n",
        "conn.execute(\"INSERT INTO trophie_data VALUES('Real Madrid', 'Spain', 2020, 'bundesliga');\")\n",
        "conn.execute(\"INSERT INTO trophie_data VALUES('Barcelona', 'Spain', 2021, 'Laliga');\")\n",
        "conn.execute(\"INSERT INTO trophie_data VALUES('Barcelona', 'Spain', 2019, 'Champions League');\")\n",
        "conn.execute(\"INSERT INTO trophie_data VALUES('Barcelona', 'Spain', 2017, 'Laliga');\")\n",
        "\n",
        "conn.commit()"
      ],
      "execution_count": null,
      "outputs": []
    },
    {
      "cell_type": "markdown",
      "source": [
        "# **Question 1** \n",
        "Find the average number of goals scored by a team\n",
        "\n",
        "**Output Columns**\n",
        "\n",
        "    Team , avg_goals"
      ],
      "metadata": {
        "id": "7f0jSztERjuu"
      }
    },
    {
      "cell_type": "code",
      "source": [
        ""
      ],
      "metadata": {
        "id": "--zWJ8tWCHwq"
      },
      "execution_count": null,
      "outputs": []
    },
    {
      "cell_type": "markdown",
      "source": [
        "# **Question 2**\n",
        "Find Team(s) with average goals higher than 50 and have won **Champions League**\n",
        "\n",
        "**Output Columns**\n",
        "\n",
        "    team_name , avg_goals, trophy_type"
      ],
      "metadata": {
        "id": "oqadgtEoTifz"
      }
    },
    {
      "cell_type": "code",
      "source": [
        ""
      ],
      "metadata": {
        "id": "zgXvHh2yCJtr"
      },
      "execution_count": null,
      "outputs": []
    },
    {
      "cell_type": "markdown",
      "source": [
        "# **Question 3**\n",
        "\n",
        "You may have used a library function to shuffle an array before.\n",
        "We'd like you to implement such a function, based on a random number generator.\n",
        "\n",
        "The generator is a function returns a random integer in [a, b)\n",
        "    \n",
        "    def random_int(a, b):\n",
        "        pass\n",
        "\n",
        "\n",
        "Given random_int, we'd like you to implement a shuffle function with the following signature:\n",
        "\n",
        "```\n",
        "  def shuffle(arr: List[int]): List[int]\n",
        "```\n",
        "\n",
        "To be a bit more precise, you'll be given an array of n integers, \n",
        "i.e. `arr = [1, 5, 7]`, shuffle should return one of the 6 possible permutations of this array, with equal probability.\n",
        "\n",
        "Please do not use any random number generator other than random_int.\n",
        "\n",
        "\n"
      ],
      "metadata": {
        "id": "AkC3yP5elCI6"
      }
    },
    {
      "cell_type": "code",
      "source": [
        ""
      ],
      "metadata": {
        "id": "CwySBnb3CK23"
      },
      "execution_count": null,
      "outputs": []
    },
    {
      "cell_type": "markdown",
      "source": [
        "# **Question 4**\n",
        "\n",
        "\n",
        "Given two data frames:\n",
        "- bills, with columns `[custId, date, amountBilled]`, showing the amount a customer was billed by date\n",
        "- payments, with columns `[custId, date, amountPaid]`, showing the amount a customer paid by date\n",
        "\n",
        "Compute a data frame with columns `[custId, date, outstandingBalance]` where:\n",
        "- Each combination of (custId, date) that occurs in either bills or payments should occur in the result, exactly once.\n",
        "- The outstandingBalance column is the sum of all amounts billed up to and including date, minus all amounts paid up to and including date\n",
        "\n",
        "Given your data frame, determine:\n",
        "- How many customers had active accounts (an amount was billed or paid during the month) for each month\n",
        "- How many customers had a nonzero outstanding balance at the end of each month\n",
        "- The percentage of customers each month that had a nonzero outstanding balance\n"
      ],
      "metadata": {
        "id": "xS-yAIPRvhsz"
      }
    },
    {
      "cell_type": "markdown",
      "source": [
        "# **Chit Chat**\n",
        "\n",
        "\n",
        "\n",
        "\n",
        "\n",
        "\n",
        "\n",
        "\n",
        "\n",
        "\n"
      ],
      "metadata": {
        "id": "PIVmMY5R9Uht"
      }
    },
    {
      "cell_type": "code",
      "source": [
        ""
      ],
      "metadata": {
        "id": "j0VVlcGr9Qcc"
      },
      "execution_count": null,
      "outputs": []
    }
  ]
}